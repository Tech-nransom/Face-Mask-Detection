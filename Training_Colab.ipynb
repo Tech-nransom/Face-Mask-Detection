{
 "cells": [
  {
   "cell_type": "markdown",
   "source": [
    "**Face Mask Detection(Used MobileNet model)**"
   ],
   "metadata": {
    "id": "HQ9L9zwj506U"
   }
  },
  {
   "cell_type": "code",
   "execution_count": 126,
   "source": [
    "!pip install kaggle"
   ],
   "outputs": [
    {
     "output_type": "stream",
     "name": "stdout",
     "text": [
      "Requirement already satisfied: kaggle in /usr/local/lib/python3.6/dist-packages (1.5.10)\n",
      "Requirement already satisfied: python-dateutil in /usr/local/lib/python3.6/dist-packages (from kaggle) (2.8.1)\n",
      "Requirement already satisfied: python-slugify in /usr/local/lib/python3.6/dist-packages (from kaggle) (4.0.1)\n",
      "Requirement already satisfied: requests in /usr/local/lib/python3.6/dist-packages (from kaggle) (2.23.0)\n",
      "Requirement already satisfied: six>=1.10 in /usr/local/lib/python3.6/dist-packages (from kaggle) (1.15.0)\n",
      "Requirement already satisfied: certifi in /usr/local/lib/python3.6/dist-packages (from kaggle) (2020.12.5)\n",
      "Requirement already satisfied: urllib3 in /usr/local/lib/python3.6/dist-packages (from kaggle) (1.24.3)\n",
      "Requirement already satisfied: tqdm in /usr/local/lib/python3.6/dist-packages (from kaggle) (4.41.1)\n",
      "Requirement already satisfied: text-unidecode>=1.3 in /usr/local/lib/python3.6/dist-packages (from python-slugify->kaggle) (1.3)\n",
      "Requirement already satisfied: chardet<4,>=3.0.2 in /usr/local/lib/python3.6/dist-packages (from requests->kaggle) (3.0.4)\n",
      "Requirement already satisfied: idna<3,>=2.5 in /usr/local/lib/python3.6/dist-packages (from requests->kaggle) (2.10)\n"
     ]
    }
   ],
   "metadata": {
    "colab": {
     "base_uri": "https://localhost:8080/"
    },
    "executionInfo": {
     "elapsed": 5496,
     "status": "ok",
     "timestamp": 1610812749409,
     "user": {
      "displayName": "yugandhar yelai",
      "photoUrl": "https://lh3.googleusercontent.com/a-/AOh14GhVsXnwYLMp2Q7hgevTPFHwKPDnjI3BbkKtZbAphHM=s64",
      "userId": "14257996472509619297"
     },
     "user_tz": -330
    },
    "id": "GZrMjdPfWD5E",
    "outputId": "3751146e-1c05-48fa-9dbe-16f5720c4ade"
   }
  },
  {
   "cell_type": "code",
   "execution_count": null,
   "source": [
    "from google.colab import files\r\n",
    "files.upload()"
   ],
   "outputs": [],
   "metadata": {
    "id": "sDEZSrzaYbZz"
   }
  },
  {
   "cell_type": "code",
   "execution_count": 127,
   "source": [
    "!mkdir -p ~/.kaggle\r\n",
    "!cp kaggle.json ~/.kaggle/ \r\n",
    "!chmod 600 ~/.kaggle/kaggle.json"
   ],
   "outputs": [],
   "metadata": {
    "executionInfo": {
     "elapsed": 1635,
     "status": "ok",
     "timestamp": 1610812753531,
     "user": {
      "displayName": "yugandhar yelai",
      "photoUrl": "https://lh3.googleusercontent.com/a-/AOh14GhVsXnwYLMp2Q7hgevTPFHwKPDnjI3BbkKtZbAphHM=s64",
      "userId": "14257996472509619297"
     },
     "user_tz": -330
    },
    "id": "o_skcolrWD5U"
   }
  },
  {
   "cell_type": "code",
   "execution_count": 128,
   "source": [
    "!kaggle datasets download -d ashishjangra27/face-mask-12k-images-dataset"
   ],
   "outputs": [
    {
     "output_type": "stream",
     "name": "stdout",
     "text": [
      "face-mask-12k-images-dataset.zip: Skipping, found more recently modified local copy (use --force to force download)\n"
     ]
    }
   ],
   "metadata": {
    "colab": {
     "base_uri": "https://localhost:8080/"
    },
    "executionInfo": {
     "elapsed": 2283,
     "status": "ok",
     "timestamp": 1610812759628,
     "user": {
      "displayName": "yugandhar yelai",
      "photoUrl": "https://lh3.googleusercontent.com/a-/AOh14GhVsXnwYLMp2Q7hgevTPFHwKPDnjI3BbkKtZbAphHM=s64",
      "userId": "14257996472509619297"
     },
     "user_tz": -330
    },
    "id": "X3o_E3W5XtNX",
    "outputId": "77ac48bf-7102-4544-9d0d-dd84ac188f02"
   }
  },
  {
   "cell_type": "code",
   "execution_count": 129,
   "source": [
    "!ls\r\n"
   ],
   "outputs": [
    {
     "output_type": "stream",
     "name": "stdout",
     "text": [
      " deploy.prototxt\t\t\t    sample_data\n",
      " face-mask-12k-images-dataset.zip\t    testingModel\n",
      "'Face Mask Dataset'\t\t\t    wm2.jpg\n",
      " kaggle.json\t\t\t\t    wm3.jpg\n",
      " res10_300x300_ssd_iter_140000.caffemodel   wom2.jpg\n"
     ]
    }
   ],
   "metadata": {
    "colab": {
     "base_uri": "https://localhost:8080/"
    },
    "executionInfo": {
     "elapsed": 1574,
     "status": "ok",
     "timestamp": 1610812764495,
     "user": {
      "displayName": "yugandhar yelai",
      "photoUrl": "https://lh3.googleusercontent.com/a-/AOh14GhVsXnwYLMp2Q7hgevTPFHwKPDnjI3BbkKtZbAphHM=s64",
      "userId": "14257996472509619297"
     },
     "user_tz": -330
    },
    "id": "-Uk23sErf2XW",
    "outputId": "ef190292-f1fc-4336-87e3-270872611c50"
   }
  },
  {
   "cell_type": "code",
   "execution_count": 130,
   "source": [
    "from zipfile import ZipFile\r\n",
    "file_name = \"face-mask-12k-images-dataset.zip\"\r\n",
    "\r\n",
    "with ZipFile(file_name,\"r\") as zip:\r\n",
    "  zip.extractall()\r\n",
    "  print(\"Done\")\r\n"
   ],
   "outputs": [
    {
     "output_type": "stream",
     "name": "stdout",
     "text": [
      "Done\n"
     ]
    }
   ],
   "metadata": {
    "colab": {
     "base_uri": "https://localhost:8080/"
    },
    "executionInfo": {
     "elapsed": 7485,
     "status": "ok",
     "timestamp": 1610812776550,
     "user": {
      "displayName": "yugandhar yelai",
      "photoUrl": "https://lh3.googleusercontent.com/a-/AOh14GhVsXnwYLMp2Q7hgevTPFHwKPDnjI3BbkKtZbAphHM=s64",
      "userId": "14257996472509619297"
     },
     "user_tz": -330
    },
    "id": "cmoizHMuf69Q",
    "outputId": "b8b79382-d8db-40e4-8728-dee6443036ad"
   }
  },
  {
   "cell_type": "code",
   "execution_count": 6,
   "source": [
    "!ls \"Face Mask Dataset\"/Test\r\n"
   ],
   "outputs": [
    {
     "output_type": "stream",
     "name": "stdout",
     "text": [
      "WithMask  WithoutMask\n"
     ]
    }
   ],
   "metadata": {
    "colab": {
     "base_uri": "https://localhost:8080/"
    },
    "executionInfo": {
     "elapsed": 10062,
     "status": "ok",
     "timestamp": 1610799014025,
     "user": {
      "displayName": "yugandhar yelai",
      "photoUrl": "https://lh3.googleusercontent.com/a-/AOh14GhVsXnwYLMp2Q7hgevTPFHwKPDnjI3BbkKtZbAphHM=s64",
      "userId": "14257996472509619297"
     },
     "user_tz": -330
    },
    "id": "76vQHN8fgY-S",
    "outputId": "c5cba8cc-190d-4b20-f763-ef935201a854"
   }
  },
  {
   "cell_type": "code",
   "execution_count": 131,
   "source": [
    "training_dir = \"Face Mask Dataset/Test\"\r\n",
    "valid_dir = \"Face Mask Dataset/Validation/\"\r\n",
    "test_dir  = \"Face Mask Dataset/Test/\""
   ],
   "outputs": [],
   "metadata": {
    "executionInfo": {
     "elapsed": 1204,
     "status": "ok",
     "timestamp": 1610812781331,
     "user": {
      "displayName": "yugandhar yelai",
      "photoUrl": "https://lh3.googleusercontent.com/a-/AOh14GhVsXnwYLMp2Q7hgevTPFHwKPDnjI3BbkKtZbAphHM=s64",
      "userId": "14257996472509619297"
     },
     "user_tz": -330
    },
    "id": "uZiL21J7gd-_"
   }
  },
  {
   "cell_type": "code",
   "execution_count": 132,
   "source": [
    "from tensorflow.keras.preprocessing.image import ImageDataGenerator\r\n",
    "from tensorflow.keras.applications import MobileNetV2\r\n",
    "from tensorflow.keras.layers import AveragePooling2D\r\n",
    "from tensorflow.keras.layers import Dropout\r\n",
    "from tensorflow.keras.layers import Flatten\r\n",
    "from tensorflow.keras.layers import Dense\r\n",
    "from tensorflow.keras.layers import Input\r\n",
    "from tensorflow.keras.models import Model\r\n",
    "from tensorflow.keras.optimizers import Adam\r\n",
    "from tensorflow.keras.applications.mobilenet_v2 import preprocess_input\r\n",
    "from tensorflow.keras.preprocessing.image import img_to_array\r\n",
    "from tensorflow.keras.preprocessing.image import load_img\r\n",
    "from tensorflow.keras.utils import to_categorical\r\n",
    "from sklearn.preprocessing import LabelBinarizer\r\n",
    "from sklearn.model_selection import train_test_split\r\n",
    "from sklearn.metrics import classification_report\r\n",
    "from imutils import paths\r\n",
    "import matplotlib.pyplot as plt\r\n",
    "import numpy as np\r\n",
    "from imutils.video import VideoStream\r\n",
    "import time\r\n",
    "import imutils\r\n",
    "import os"
   ],
   "outputs": [],
   "metadata": {
    "executionInfo": {
     "elapsed": 1149,
     "status": "ok",
     "timestamp": 1610812786426,
     "user": {
      "displayName": "yugandhar yelai",
      "photoUrl": "https://lh3.googleusercontent.com/a-/AOh14GhVsXnwYLMp2Q7hgevTPFHwKPDnjI3BbkKtZbAphHM=s64",
      "userId": "14257996472509619297"
     },
     "user_tz": -330
    },
    "id": "67yHhPGGzOhX"
   }
  },
  {
   "cell_type": "markdown",
   "source": [
    "grab the list of images in our dataset directory, then initialize\n",
    "the list of data (i.e., images) and class images"
   ],
   "metadata": {
    "id": "W4wSAoyL26Ey"
   }
  },
  {
   "cell_type": "code",
   "execution_count": 133,
   "source": [
    "INIT_LR = 1e-4\r\n",
    "EPOCHS = 20\r\n",
    "BS = 32\r\n",
    "\r\n",
    "imagePaths = list(paths.list_images(training_dir))\r\n",
    "data = []\r\n",
    "labels = []"
   ],
   "outputs": [],
   "metadata": {
    "executionInfo": {
     "elapsed": 1251,
     "status": "ok",
     "timestamp": 1610812793910,
     "user": {
      "displayName": "yugandhar yelai",
      "photoUrl": "https://lh3.googleusercontent.com/a-/AOh14GhVsXnwYLMp2Q7hgevTPFHwKPDnjI3BbkKtZbAphHM=s64",
      "userId": "14257996472509619297"
     },
     "user_tz": -330
    },
    "id": "ACNb7nHJbM6e"
   }
  },
  {
   "cell_type": "markdown",
   "source": [
    "PreProcessing\n"
   ],
   "metadata": {
    "id": "XcO0mmTQ3KeS"
   }
  },
  {
   "cell_type": "code",
   "execution_count": 134,
   "source": [
    "for imagePath in imagePaths:\r\n",
    "    label = imagePath.split(os.path.sep)[-2]\r\n",
    "    image = load_img(imagePath, target_size=(224, 224))\r\n",
    "    image = img_to_array(image)\r\n",
    "    image = preprocess_input(image)\r\n",
    "    data.append(image)\r\n",
    "    labels.append(label)"
   ],
   "outputs": [],
   "metadata": {
    "executionInfo": {
     "elapsed": 3293,
     "status": "ok",
     "timestamp": 1610812801680,
     "user": {
      "displayName": "yugandhar yelai",
      "photoUrl": "https://lh3.googleusercontent.com/a-/AOh14GhVsXnwYLMp2Q7hgevTPFHwKPDnjI3BbkKtZbAphHM=s64",
      "userId": "14257996472509619297"
     },
     "user_tz": -330
    },
    "id": "FxRBZ8-QzXZc"
   }
  },
  {
   "cell_type": "markdown",
   "source": [
    "convert the data and labels to NumPy arrays"
   ],
   "metadata": {
    "id": "c0Pc1DR83RvV"
   }
  },
  {
   "cell_type": "code",
   "execution_count": 135,
   "source": [
    "data = np.array(data, dtype=\"float32\")\r\n",
    "labels = np.array(labels)"
   ],
   "outputs": [],
   "metadata": {
    "executionInfo": {
     "elapsed": 1600,
     "status": "ok",
     "timestamp": 1610812809026,
     "user": {
      "displayName": "yugandhar yelai",
      "photoUrl": "https://lh3.googleusercontent.com/a-/AOh14GhVsXnwYLMp2Q7hgevTPFHwKPDnjI3BbkKtZbAphHM=s64",
      "userId": "14257996472509619297"
     },
     "user_tz": -330
    },
    "id": "zXFmhxpLzcme"
   }
  },
  {
   "cell_type": "markdown",
   "source": [
    "perform one-hot encoding on the labels"
   ],
   "metadata": {
    "id": "s1d8ntWA3XRL"
   }
  },
  {
   "cell_type": "code",
   "execution_count": 136,
   "source": [
    "\r\n",
    "lb = LabelBinarizer()\r\n",
    "labels = lb.fit_transform(labels)\r\n",
    "labels = to_categorical(labels)\r\n",
    "(trainX, testX, trainY, testY) = train_test_split(data, labels,\r\n",
    "    test_size=0.20, stratify=labels, random_state=42)"
   ],
   "outputs": [],
   "metadata": {
    "executionInfo": {
     "elapsed": 1454,
     "status": "ok",
     "timestamp": 1610812814566,
     "user": {
      "displayName": "yugandhar yelai",
      "photoUrl": "https://lh3.googleusercontent.com/a-/AOh14GhVsXnwYLMp2Q7hgevTPFHwKPDnjI3BbkKtZbAphHM=s64",
      "userId": "14257996472509619297"
     },
     "user_tz": -330
    },
    "id": "vDRKk1nLzkZo"
   }
  },
  {
   "cell_type": "markdown",
   "source": [
    "construct the training image generator for data augmentation\n",
    "And Loading the MobileNet model"
   ],
   "metadata": {
    "id": "gaoh1LqI3dFV"
   }
  },
  {
   "cell_type": "code",
   "execution_count": 137,
   "source": [
    "aug = ImageDataGenerator(\r\n",
    "    rotation_range=20,\r\n",
    "    zoom_range=0.15,\r\n",
    "    width_shift_range=0.2,\r\n",
    "    height_shift_range=0.2,\r\n",
    "    shear_range=0.15,\r\n",
    "    horizontal_flip=True,\r\n",
    "    fill_mode=\"nearest\")\r\n",
    "\r\n",
    "baseModel = MobileNetV2(weights=\"imagenet\", include_top=False,\r\n",
    "    input_tensor=Input(shape=(224, 224, 3)))"
   ],
   "outputs": [
    {
     "output_type": "stream",
     "name": "stdout",
     "text": [
      "WARNING:tensorflow:`input_shape` is undefined or non-square, or `rows` is not in [96, 128, 160, 192, 224]. Weights for input shape (224, 224) will be loaded as the default.\n"
     ]
    }
   ],
   "metadata": {
    "colab": {
     "base_uri": "https://localhost:8080/"
    },
    "executionInfo": {
     "elapsed": 1870,
     "status": "ok",
     "timestamp": 1610812820292,
     "user": {
      "displayName": "yugandhar yelai",
      "photoUrl": "https://lh3.googleusercontent.com/a-/AOh14GhVsXnwYLMp2Q7hgevTPFHwKPDnjI3BbkKtZbAphHM=s64",
      "userId": "14257996472509619297"
     },
     "user_tz": -330
    },
    "id": "Zl6WikARzles",
    "outputId": "17eabbd3-586e-4e9d-e7f0-7cf93771ab58"
   }
  },
  {
   "cell_type": "code",
   "execution_count": 138,
   "source": [
    "headModel = baseModel.output\r\n",
    "headModel = AveragePooling2D(pool_size=(7, 7))(headModel)\r\n",
    "headModel = Flatten(name=\"flatten\")(headModel)\r\n",
    "headModel = Dense(128, activation=\"relu\")(headModel)\r\n",
    "headModel = Dropout(0.5)(headModel)\r\n",
    "headModel = Dense(2, activation=\"softmax\")(headModel)\r\n",
    "model = Model(inputs=baseModel.input, outputs=headModel)\r\n",
    "for layer in baseModel.layers:\r\n",
    "    layer.trainable = False\r\n"
   ],
   "outputs": [],
   "metadata": {
    "executionInfo": {
     "elapsed": 1196,
     "status": "ok",
     "timestamp": 1610812826955,
     "user": {
      "displayName": "yugandhar yelai",
      "photoUrl": "https://lh3.googleusercontent.com/a-/AOh14GhVsXnwYLMp2Q7hgevTPFHwKPDnjI3BbkKtZbAphHM=s64",
      "userId": "14257996472509619297"
     },
     "user_tz": -330
    },
    "id": "-9h3U0twzyaW"
   }
  },
  {
   "cell_type": "markdown",
   "source": [
    "compile our model"
   ],
   "metadata": {
    "id": "avuGuNJ-3uni"
   }
  },
  {
   "cell_type": "code",
   "execution_count": 139,
   "source": [
    "opt = Adam(lr=INIT_LR, decay=INIT_LR / EPOCHS)\r\n",
    "model.compile(loss=\"binary_crossentropy\", optimizer=opt,\r\n",
    "    metrics=[\"accuracy\"])"
   ],
   "outputs": [],
   "metadata": {
    "executionInfo": {
     "elapsed": 1055,
     "status": "ok",
     "timestamp": 1610812831236,
     "user": {
      "displayName": "yugandhar yelai",
      "photoUrl": "https://lh3.googleusercontent.com/a-/AOh14GhVsXnwYLMp2Q7hgevTPFHwKPDnjI3BbkKtZbAphHM=s64",
      "userId": "14257996472509619297"
     },
     "user_tz": -330
    },
    "id": "NAlsKNNLz2wO"
   }
  },
  {
   "cell_type": "markdown",
   "source": [
    "train the head of the network"
   ],
   "metadata": {
    "id": "hQl2z1fB31C8"
   }
  },
  {
   "cell_type": "code",
   "execution_count": null,
   "source": [
    "H = model.fit(\r\n",
    "    aug.flow(trainX, trainY, batch_size=BS),\r\n",
    "    steps_per_epoch=len(trainX) // BS,\r\n",
    "    validation_data=(testX, testY),\r\n",
    "    validation_steps=len(testX) // BS,\r\n",
    "    epochs=EPOCHS)"
   ],
   "outputs": [],
   "metadata": {
    "id": "AS9qqOg_z8HJ"
   }
  },
  {
   "cell_type": "markdown",
   "source": [
    "make predictions on the testing set"
   ],
   "metadata": {
    "id": "NaX-CGgX36ar"
   }
  },
  {
   "cell_type": "code",
   "execution_count": 141,
   "source": [
    "predIdxs = model.predict(testX, batch_size=BS)"
   ],
   "outputs": [
    {
     "output_type": "stream",
     "name": "stdout",
     "text": [
      "WARNING:tensorflow:7 out of the last 12 calls to <function Model.make_predict_function.<locals>.predict_function at 0x7f724cbbe730> triggered tf.function retracing. Tracing is expensive and the excessive number of tracings could be due to (1) creating @tf.function repeatedly in a loop, (2) passing tensors with different shapes, (3) passing Python objects instead of tensors. For (1), please define your @tf.function outside of the loop. For (2), @tf.function has experimental_relax_shapes=True option that relaxes argument shapes that can avoid unnecessary retracing. For (3), please refer to https://www.tensorflow.org/guide/function#controlling_retracing and https://www.tensorflow.org/api_docs/python/tf/function for  more details.\n"
     ]
    }
   ],
   "metadata": {
    "colab": {
     "base_uri": "https://localhost:8080/"
    },
    "executionInfo": {
     "elapsed": 1857,
     "status": "ok",
     "timestamp": 1610812860856,
     "user": {
      "displayName": "yugandhar yelai",
      "photoUrl": "https://lh3.googleusercontent.com/a-/AOh14GhVsXnwYLMp2Q7hgevTPFHwKPDnjI3BbkKtZbAphHM=s64",
      "userId": "14257996472509619297"
     },
     "user_tz": -330
    },
    "id": "PBkbwetN0DMe",
    "outputId": "e9246c22-aae0-4e56-ae43-f0a007c5542c"
   }
  },
  {
   "cell_type": "markdown",
   "source": [
    "Saving the model"
   ],
   "metadata": {
    "id": "rLg7Kufe4X-u"
   }
  },
  {
   "cell_type": "code",
   "execution_count": null,
   "source": [
    "model.save(\"testingModel\", save_format=\"h5\")"
   ],
   "outputs": [],
   "metadata": {
    "id": "fCShiqPN0Emn"
   }
  },
  {
   "cell_type": "markdown",
   "source": [
    "plot the training loss and accuracy"
   ],
   "metadata": {
    "id": "TWYicU-R4G2h"
   }
  },
  {
   "cell_type": "markdown",
   "source": [
    "Visualization"
   ],
   "metadata": {
    "id": "u3G46RDl4SA8"
   }
  },
  {
   "cell_type": "code",
   "execution_count": 142,
   "source": [
    "N = EPOCHS\r\n",
    "plt.style.use(\"ggplot\")\r\n",
    "plt.figure()\r\n",
    "plt.plot(np.arange(0, N), H.history[\"loss\"], label=\"train_loss\")\r\n",
    "plt.plot(np.arange(0, N), H.history[\"val_loss\"], label=\"val_loss\")"
   ],
   "outputs": [
    {
     "output_type": "execute_result",
     "data": {
      "text/plain": [
       "[<matplotlib.lines.Line2D at 0x7f73063cb4e0>]"
      ]
     },
     "metadata": {
      "tags": []
     },
     "execution_count": 142
    },
    {
     "output_type": "display_data",
     "data": {
      "text/plain": [
       "<Figure size 432x288 with 1 Axes>"
      ],
      "image/png": "[encoded data removed]"
     },
     "metadata": {
      "tags": []
     }
    }
   ],
   "metadata": {
    "colab": {
     "base_uri": "https://localhost:8080/",
     "height": 283
    },
    "executionInfo": {
     "elapsed": 1571,
     "status": "ok",
     "timestamp": 1610812868929,
     "user": {
      "displayName": "yugandhar yelai",
      "photoUrl": "https://lh3.googleusercontent.com/a-/AOh14GhVsXnwYLMp2Q7hgevTPFHwKPDnjI3BbkKtZbAphHM=s64",
      "userId": "14257996472509619297"
     },
     "user_tz": -330
    },
    "id": "ls58NMR60S3i",
    "outputId": "b080f45e-7fab-4646-e2bd-fc04f445337d"
   }
  },
  {
   "cell_type": "markdown",
   "source": [
    "Switching to Regular Jupyter Notebook"
   ],
   "metadata": {
    "id": "xiN_F3JM2t2F"
   }
  },
  {
   "cell_type": "code",
   "execution_count": null,
   "source": [],
   "outputs": [],
   "metadata": {
    "id": "XzWhbK0LPg6D"
   }
  }
 ],
 "metadata": {
  "accelerator": "GPU",
  "colab": {
   "collapsed_sections": [],
   "name": "Task 4.ipynb",
   "provenance": [
    {
     "file_id": "https://github.com/Tech-nransom/Computer-Vision-and-IOT/blob/main/Task%203/Task%203.ipynb",
     "timestamp": 1610706142735
    }
   ]
  },
  "kernelspec": {
   "display_name": "Python 3",
   "language": "python",
   "name": "python3"
  },
  "language_info": {
   "codemirror_mode": {
    "name": "ipython",
    "version": 3
   },
   "file_extension": ".py",
   "mimetype": "text/x-python",
   "name": "python",
   "nbconvert_exporter": "python",
   "pygments_lexer": "ipython3",
   "version": "3.8.5"
  }
 },
 "nbformat": 4,
 "nbformat_minor": 1
}