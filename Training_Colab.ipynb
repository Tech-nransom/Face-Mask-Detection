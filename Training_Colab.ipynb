{
 "cells": [
  {
   "cell_type": "markdown",
   "metadata": {
    "id": "HQ9L9zwj506U"
   },
   "source": [
    "**Face Mask Detection(Used MobileNet model)**\n",
   ]
  },
  {
   "cell_type": "code",
   "execution_count": 126,
   "metadata": {
    "colab": {
     "base_uri": "https://localhost:8080/"
    },
    "executionInfo": {
     "elapsed": 5496,
     "status": "ok",
     "timestamp": 1610812749409,
     "user": {
      "displayName": "yugandhar yelai",
      "photoUrl": "https://lh3.googleusercontent.com/a-/AOh14GhVsXnwYLMp2Q7hgevTPFHwKPDnjI3BbkKtZbAphHM=s64",
      "userId": "14257996472509619297"
     },
     "user_tz": -330
    },
    "id": "GZrMjdPfWD5E",
    "outputId": "3751146e-1c05-48fa-9dbe-16f5720c4ade"
   },
   "outputs": [
    {
     "name": "stdout",
     "output_type": "stream",
     "text": [
      "Requirement already satisfied: kaggle in /usr/local/lib/python3.6/dist-packages (1.5.10)\n",
      "Requirement already satisfied: python-dateutil in /usr/local/lib/python3.6/dist-packages (from kaggle) (2.8.1)\n",
      "Requirement already satisfied: python-slugify in /usr/local/lib/python3.6/dist-packages (from kaggle) (4.0.1)\n",
      "Requirement already satisfied: requests in /usr/local/lib/python3.6/dist-packages (from kaggle) (2.23.0)\n",
      "Requirement already satisfied: six>=1.10 in /usr/local/lib/python3.6/dist-packages (from kaggle) (1.15.0)\n",
      "Requirement already satisfied: certifi in /usr/local/lib/python3.6/dist-packages (from kaggle) (2020.12.5)\n",
      "Requirement already satisfied: urllib3 in /usr/local/lib/python3.6/dist-packages (from kaggle) (1.24.3)\n",
      "Requirement already satisfied: tqdm in /usr/local/lib/python3.6/dist-packages (from kaggle) (4.41.1)\n",
      "Requirement already satisfied: text-unidecode>=1.3 in /usr/local/lib/python3.6/dist-packages (from python-slugify->kaggle) (1.3)\n",
      "Requirement already satisfied: chardet<4,>=3.0.2 in /usr/local/lib/python3.6/dist-packages (from requests->kaggle) (3.0.4)\n",
      "Requirement already satisfied: idna<3,>=2.5 in /usr/local/lib/python3.6/dist-packages (from requests->kaggle) (2.10)\n"
     ]
    }
   ],
   "source": [
    "!pip install kaggle"
   ]
  },
  {
   "cell_type": "code",
   "execution_count": null,
   "metadata": {
    "id": "sDEZSrzaYbZz"
   },
   "outputs": [],
   "source": [
    "from google.colab import files\n",
    "files.upload()"
   ]
  },
  {
   "cell_type": "code",
   "execution_count": 127,
   "metadata": {
    "executionInfo": {
     "elapsed": 1635,
     "status": "ok",
     "timestamp": 1610812753531,
     "user": {
      "displayName": "yugandhar yelai",
      "photoUrl": "https://lh3.googleusercontent.com/a-/AOh14GhVsXnwYLMp2Q7hgevTPFHwKPDnjI3BbkKtZbAphHM=s64",
      "userId": "14257996472509619297"
     },
     "user_tz": -330
    },
    "id": "o_skcolrWD5U"
   },
   "outputs": [],
   "source": [
    "!mkdir -p ~/.kaggle\n",
    "!cp kaggle.json ~/.kaggle/ \n",
    "!chmod 600 ~/.kaggle/kaggle.json"
   ]
  },
  {
   "cell_type": "code",
   "execution_count": 128,
   "metadata": {
    "colab": {
     "base_uri": "https://localhost:8080/"
    },
    "executionInfo": {
     "elapsed": 2283,
     "status": "ok",
     "timestamp": 1610812759628,
     "user": {
      "displayName": "yugandhar yelai",
      "photoUrl": "https://lh3.googleusercontent.com/a-/AOh14GhVsXnwYLMp2Q7hgevTPFHwKPDnjI3BbkKtZbAphHM=s64",
      "userId": "14257996472509619297"
     },
     "user_tz": -330
    },
    "id": "X3o_E3W5XtNX",
    "outputId": "77ac48bf-7102-4544-9d0d-dd84ac188f02"
   },
   "outputs": [
    {
     "name": "stdout",
     "output_type": "stream",
     "text": [
      "face-mask-12k-images-dataset.zip: Skipping, found more recently modified local copy (use --force to force download)\n"
     ]
    }
   ],
   "source": [
    "!kaggle datasets download -d ashishjangra27/face-mask-12k-images-dataset"
   ]
  },
  {
   "cell_type": "code",
   "execution_count": 129,
   "metadata": {
    "colab": {
     "base_uri": "https://localhost:8080/"
    },
    "executionInfo": {
     "elapsed": 1574,
     "status": "ok",
     "timestamp": 1610812764495,
     "user": {
      "displayName": "yugandhar yelai",
      "photoUrl": "https://lh3.googleusercontent.com/a-/AOh14GhVsXnwYLMp2Q7hgevTPFHwKPDnjI3BbkKtZbAphHM=s64",
      "userId": "14257996472509619297"
     },
     "user_tz": -330
    },
    "id": "-Uk23sErf2XW",
    "outputId": "ef190292-f1fc-4336-87e3-270872611c50"
   },
   "outputs": [
    {
     "name": "stdout",
     "output_type": "stream",
     "text": [
      " deploy.prototxt\t\t\t    sample_data\n",
      " face-mask-12k-images-dataset.zip\t    testingModel\n",
      "'Face Mask Dataset'\t\t\t    wm2.jpg\n",
      " kaggle.json\t\t\t\t    wm3.jpg\n",
      " res10_300x300_ssd_iter_140000.caffemodel   wom2.jpg\n"
     ]
    }
   ],
   "source": [
    "!ls\n"
   ]
  },
  {
   "cell_type": "code",
   "execution_count": 130,
   "metadata": {
    "colab": {
     "base_uri": "https://localhost:8080/"
    },
    "executionInfo": {
     "elapsed": 7485,
     "status": "ok",
     "timestamp": 1610812776550,
     "user": {
      "displayName": "yugandhar yelai",
      "photoUrl": "https://lh3.googleusercontent.com/a-/AOh14GhVsXnwYLMp2Q7hgevTPFHwKPDnjI3BbkKtZbAphHM=s64",
      "userId": "14257996472509619297"
     },
     "user_tz": -330
    },
    "id": "cmoizHMuf69Q",
    "outputId": "b8b79382-d8db-40e4-8728-dee6443036ad"
   },
   "outputs": [
    {
     "name": "stdout",
     "output_type": "stream",
     "text": [
      "Done\n"
     ]
    }
   ],
   "source": [
    "from zipfile import ZipFile\n",
    "file_name = \"face-mask-12k-images-dataset.zip\"\n",
    "\n",
    "with ZipFile(file_name,\"r\") as zip:\n",
    "  zip.extractall()\n",
    "  print(\"Done\")\n"
   ]
  },
  {
   "cell_type": "code",
   "execution_count": 6,
   "metadata": {
    "colab": {
     "base_uri": "https://localhost:8080/"
    },
    "executionInfo": {
     "elapsed": 10062,
     "status": "ok",
     "timestamp": 1610799014025,
     "user": {
      "displayName": "yugandhar yelai",
      "photoUrl": "https://lh3.googleusercontent.com/a-/AOh14GhVsXnwYLMp2Q7hgevTPFHwKPDnjI3BbkKtZbAphHM=s64",
      "userId": "14257996472509619297"
     },
     "user_tz": -330
    },
    "id": "76vQHN8fgY-S",
    "outputId": "c5cba8cc-190d-4b20-f763-ef935201a854"
   },
   "outputs": [
    {
     "name": "stdout",
     "output_type": "stream",
     "text": [
      "WithMask  WithoutMask\n"
     ]
    }
   ],
   "source": [
    "!ls \"Face Mask Dataset\"/Test\n"
   ]
  },
  {
   "cell_type": "code",
   "execution_count": 131,
   "metadata": {
    "executionInfo": {
     "elapsed": 1204,
     "status": "ok",
     "timestamp": 1610812781331,
     "user": {
      "displayName": "yugandhar yelai",
      "photoUrl": "https://lh3.googleusercontent.com/a-/AOh14GhVsXnwYLMp2Q7hgevTPFHwKPDnjI3BbkKtZbAphHM=s64",
      "userId": "14257996472509619297"
     },
     "user_tz": -330
    },
    "id": "uZiL21J7gd-_"
   },
   "outputs": [],
   "source": [
    "training_dir = \"Face Mask Dataset/Test\"\n",
    "valid_dir = \"Face Mask Dataset/Validation/\"\n",
    "test_dir  = \"Face Mask Dataset/Test/\""
   ]
  },
  {
   "cell_type": "code",
   "execution_count": 132,
   "metadata": {
    "executionInfo": {
     "elapsed": 1149,
     "status": "ok",
     "timestamp": 1610812786426,
     "user": {
      "displayName": "yugandhar yelai",
      "photoUrl": "https://lh3.googleusercontent.com/a-/AOh14GhVsXnwYLMp2Q7hgevTPFHwKPDnjI3BbkKtZbAphHM=s64",
      "userId": "14257996472509619297"
     },
     "user_tz": -330
    },
    "id": "67yHhPGGzOhX"
   },
   "outputs": [],
   "source": [
    "from tensorflow.keras.preprocessing.image import ImageDataGenerator\n",
    "from tensorflow.keras.applications import MobileNetV2\n",
    "from tensorflow.keras.layers import AveragePooling2D\n",
    "from tensorflow.keras.layers import Dropout\n",
    "from tensorflow.keras.layers import Flatten\n",
    "from tensorflow.keras.layers import Dense\n",
    "from tensorflow.keras.layers import Input\n",
    "from tensorflow.keras.models import Model\n",
    "from tensorflow.keras.optimizers import Adam\n",
    "from tensorflow.keras.applications.mobilenet_v2 import preprocess_input\n",
    "from tensorflow.keras.preprocessing.image import img_to_array\n",
    "from tensorflow.keras.preprocessing.image import load_img\n",
    "from tensorflow.keras.utils import to_categorical\n",
    "from sklearn.preprocessing import LabelBinarizer\n",
    "from sklearn.model_selection import train_test_split\n",
    "from sklearn.metrics import classification_report\n",
    "from imutils import paths\n",
    "import matplotlib.pyplot as plt\n",
    "import numpy as np\n",
    "from imutils.video import VideoStream\n",
    "import time\n",
    "import imutils\n",
    "import os"
   ]
  },
  {
   "cell_type": "markdown",
   "metadata": {
    "id": "W4wSAoyL26Ey"
   },
   "source": [
    "grab the list of images in our dataset directory, then initialize\n",
    "the list of data (i.e., images) and class images"
   ]
  },
  {
   "cell_type": "code",
   "execution_count": 133,
   "metadata": {
    "executionInfo": {
     "elapsed": 1251,
     "status": "ok",
     "timestamp": 1610812793910,
     "user": {
      "displayName": "yugandhar yelai",
      "photoUrl": "https://lh3.googleusercontent.com/a-/AOh14GhVsXnwYLMp2Q7hgevTPFHwKPDnjI3BbkKtZbAphHM=s64",
      "userId": "14257996472509619297"
     },
     "user_tz": -330
    },
    "id": "ACNb7nHJbM6e"
   },
   "outputs": [],
   "source": [
    "INIT_LR = 1e-4\n",
    "EPOCHS = 20\n",
    "BS = 32\n",
    "\n",
    "imagePaths = list(paths.list_images(training_dir))\n",
    "data = []\n",
    "labels = []"
   ]
  },
  {
   "cell_type": "markdown",
   "metadata": {
    "id": "XcO0mmTQ3KeS"
   },
   "source": [
    "PreProcessing\n"
   ]
  },
  {
   "cell_type": "code",
   "execution_count": 134,
   "metadata": {
    "executionInfo": {
     "elapsed": 3293,
     "status": "ok",
     "timestamp": 1610812801680,
     "user": {
      "displayName": "yugandhar yelai",
      "photoUrl": "https://lh3.googleusercontent.com/a-/AOh14GhVsXnwYLMp2Q7hgevTPFHwKPDnjI3BbkKtZbAphHM=s64",
      "userId": "14257996472509619297"
     },
     "user_tz": -330
    },
    "id": "FxRBZ8-QzXZc"
   },
   "outputs": [],
   "source": [
    "for imagePath in imagePaths:\n",
    "    label = imagePath.split(os.path.sep)[-2]\n",
    "    image = load_img(imagePath, target_size=(224, 224))\n",
    "    image = img_to_array(image)\n",
    "    image = preprocess_input(image)\n",
    "    data.append(image)\n",
    "    labels.append(label)"
   ]
  },
  {
   "cell_type": "markdown",
   "metadata": {
    "id": "c0Pc1DR83RvV"
   },
   "source": [
    "convert the data and labels to NumPy arrays"
   ]
  },
  {
   "cell_type": "code",
   "execution_count": 135,
   "metadata": {
    "executionInfo": {
     "elapsed": 1600,
     "status": "ok",
     "timestamp": 1610812809026,
     "user": {
      "displayName": "yugandhar yelai",
      "photoUrl": "https://lh3.googleusercontent.com/a-/AOh14GhVsXnwYLMp2Q7hgevTPFHwKPDnjI3BbkKtZbAphHM=s64",
      "userId": "14257996472509619297"
     },
     "user_tz": -330
    },
    "id": "zXFmhxpLzcme"
   },
   "outputs": [],
   "source": [
    "data = np.array(data, dtype=\"float32\")\n",
    "labels = np.array(labels)"
   ]
  },
  {
   "cell_type": "markdown",
   "metadata": {
    "id": "s1d8ntWA3XRL"
   },
   "source": [
    "perform one-hot encoding on the labels"
   ]
  },
  {
   "cell_type": "code",
   "execution_count": 136,
   "metadata": {
    "executionInfo": {
     "elapsed": 1454,
     "status": "ok",
     "timestamp": 1610812814566,
     "user": {
      "displayName": "yugandhar yelai",
      "photoUrl": "https://lh3.googleusercontent.com/a-/AOh14GhVsXnwYLMp2Q7hgevTPFHwKPDnjI3BbkKtZbAphHM=s64",
      "userId": "14257996472509619297"
     },
     "user_tz": -330
    },
    "id": "vDRKk1nLzkZo"
   },
   "outputs": [],
   "source": [
    "\n",
    "lb = LabelBinarizer()\n",
    "labels = lb.fit_transform(labels)\n",
    "labels = to_categorical(labels)\n",
    "(trainX, testX, trainY, testY) = train_test_split(data, labels,\n",
    "    test_size=0.20, stratify=labels, random_state=42)"
   ]
  },
  {
   "cell_type": "markdown",
   "metadata": {
    "id": "gaoh1LqI3dFV"
   },
   "source": [
    "construct the training image generator for data augmentation\n",
    "And Loading the MobileNet model"
   ]
  },
  {
   "cell_type": "code",
   "execution_count": 137,
   "metadata": {
    "colab": {
     "base_uri": "https://localhost:8080/"
    },
    "executionInfo": {
     "elapsed": 1870,
     "status": "ok",
     "timestamp": 1610812820292,
     "user": {
      "displayName": "yugandhar yelai",
      "photoUrl": "https://lh3.googleusercontent.com/a-/AOh14GhVsXnwYLMp2Q7hgevTPFHwKPDnjI3BbkKtZbAphHM=s64",
      "userId": "14257996472509619297"
     },
     "user_tz": -330
    },
    "id": "Zl6WikARzles",
    "outputId": "17eabbd3-586e-4e9d-e7f0-7cf93771ab58"
   },
   "outputs": [
    {
     "name": "stdout",
     "output_type": "stream",
     "text": [
      "WARNING:tensorflow:`input_shape` is undefined or non-square, or `rows` is not in [96, 128, 160, 192, 224]. Weights for input shape (224, 224) will be loaded as the default.\n"
     ]
    }
   ],
   "source": [
    "aug = ImageDataGenerator(\n",
    "    rotation_range=20,\n",
    "    zoom_range=0.15,\n",
    "    width_shift_range=0.2,\n",
    "    height_shift_range=0.2,\n",
    "    shear_range=0.15,\n",
    "    horizontal_flip=True,\n",
    "    fill_mode=\"nearest\")\n",
    "\n",
    "baseModel = MobileNetV2(weights=\"imagenet\", include_top=False,\n",
    "    input_tensor=Input(shape=(224, 224, 3)))"
   ]
  },
  {
   "cell_type": "code",
   "execution_count": 138,
   "metadata": {
    "executionInfo": {
     "elapsed": 1196,
     "status": "ok",
     "timestamp": 1610812826955,
     "user": {
      "displayName": "yugandhar yelai",
      "photoUrl": "https://lh3.googleusercontent.com/a-/AOh14GhVsXnwYLMp2Q7hgevTPFHwKPDnjI3BbkKtZbAphHM=s64",
      "userId": "14257996472509619297"
     },
     "user_tz": -330
    },
    "id": "-9h3U0twzyaW"
   },
   "outputs": [],
   "source": [
    "headModel = baseModel.output\n",
    "headModel = AveragePooling2D(pool_size=(7, 7))(headModel)\n",
    "headModel = Flatten(name=\"flatten\")(headModel)\n",
    "headModel = Dense(128, activation=\"relu\")(headModel)\n",
    "headModel = Dropout(0.5)(headModel)\n",
    "headModel = Dense(2, activation=\"softmax\")(headModel)\n",
    "model = Model(inputs=baseModel.input, outputs=headModel)\n",
    "for layer in baseModel.layers:\n",
    "    layer.trainable = False\n"
   ]
  },
  {
   "cell_type": "markdown",
   "metadata": {
    "id": "avuGuNJ-3uni"
   },
   "source": [
    "compile our model"
   ]
  },
  {
   "cell_type": "code",
   "execution_count": 139,
   "metadata": {
    "executionInfo": {
     "elapsed": 1055,
     "status": "ok",
     "timestamp": 1610812831236,
     "user": {
      "displayName": "yugandhar yelai",
      "photoUrl": "https://lh3.googleusercontent.com/a-/AOh14GhVsXnwYLMp2Q7hgevTPFHwKPDnjI3BbkKtZbAphHM=s64",
      "userId": "14257996472509619297"
     },
     "user_tz": -330
    },
    "id": "NAlsKNNLz2wO"
   },
   "outputs": [],
   "source": [
    "opt = Adam(lr=INIT_LR, decay=INIT_LR / EPOCHS)\n",
    "model.compile(loss=\"binary_crossentropy\", optimizer=opt,\n",
    "    metrics=[\"accuracy\"])"
   ]
  },
  {
   "cell_type": "markdown",
   "metadata": {
    "id": "hQl2z1fB31C8"
   },
   "source": [
    "train the head of the network"
   ]
  },
  {
   "cell_type": "code",
   "execution_count": null,
   "metadata": {
    "id": "AS9qqOg_z8HJ"
   },
   "outputs": [],
   "source": [
    "H = model.fit(\n",
    "    aug.flow(trainX, trainY, batch_size=BS),\n",
    "    steps_per_epoch=len(trainX) // BS,\n",
    "    validation_data=(testX, testY),\n",
    "    validation_steps=len(testX) // BS,\n",
    "    epochs=EPOCHS)"
   ]
  },
  {
   "cell_type": "markdown",
   "metadata": {
    "id": "NaX-CGgX36ar"
   },
   "source": [
    "make predictions on the testing set"
   ]
  },
  {
   "cell_type": "code",
   "execution_count": 141,
   "metadata": {
    "colab": {
     "base_uri": "https://localhost:8080/"
    },
    "executionInfo": {
     "elapsed": 1857,
     "status": "ok",
     "timestamp": 1610812860856,
     "user": {
      "displayName": "yugandhar yelai",
      "photoUrl": "https://lh3.googleusercontent.com/a-/AOh14GhVsXnwYLMp2Q7hgevTPFHwKPDnjI3BbkKtZbAphHM=s64",
      "userId": "14257996472509619297"
     },
     "user_tz": -330
    },
    "id": "PBkbwetN0DMe",
    "outputId": "e9246c22-aae0-4e56-ae43-f0a007c5542c"
   },
   "outputs": [
    {
     "name": "stdout",
     "output_type": "stream",
     "text": [
      "WARNING:tensorflow:7 out of the last 12 calls to <function Model.make_predict_function.<locals>.predict_function at 0x7f724cbbe730> triggered tf.function retracing. Tracing is expensive and the excessive number of tracings could be due to (1) creating @tf.function repeatedly in a loop, (2) passing tensors with different shapes, (3) passing Python objects instead of tensors. For (1), please define your @tf.function outside of the loop. For (2), @tf.function has experimental_relax_shapes=True option that relaxes argument shapes that can avoid unnecessary retracing. For (3), please refer to https://www.tensorflow.org/guide/function#controlling_retracing and https://www.tensorflow.org/api_docs/python/tf/function for  more details.\n"
     ]
    }
   ],
   "source": [
    "predIdxs = model.predict(testX, batch_size=BS)"
   ]
  },
  {
   "cell_type": "markdown",
   "metadata": {
    "id": "rLg7Kufe4X-u"
   },
   "source": [
    "Saving the model"
   ]
  },
  {
   "cell_type": "code",
   "execution_count": null,
   "metadata": {
    "id": "fCShiqPN0Emn"
   },
   "outputs": [],
   "source": [
    "model.save(\"testingModel\", save_format=\"h5\")"
   ]
  },
  {
   "cell_type": "markdown",
   "metadata": {
    "id": "TWYicU-R4G2h"
   },
   "source": [
    "plot the training loss and accuracy"
   ]
  },
  {
   "cell_type": "markdown",
   "metadata": {
    "id": "u3G46RDl4SA8"
   },
   "source": [
    "Visualization"
   ]
  },
  {
   "cell_type": "code",
   "execution_count": 142,
   "metadata": {
    "colab": {
     "base_uri": "https://localhost:8080/",
     "height": 283
    },
    "executionInfo": {
     "elapsed": 1571,
     "status": "ok",
     "timestamp": 1610812868929,
     "user": {
      "displayName": "yugandhar yelai",
      "photoUrl": "https://lh3.googleusercontent.com/a-/AOh14GhVsXnwYLMp2Q7hgevTPFHwKPDnjI3BbkKtZbAphHM=s64",
      "userId": "14257996472509619297"
     },
     "user_tz": -330
    },
    "id": "ls58NMR60S3i",
    "outputId": "b080f45e-7fab-4646-e2bd-fc04f445337d"
   },
   "outputs": [
    {
     "data": {
      "text/plain": [
       "[<matplotlib.lines.Line2D at 0x7f73063cb4e0>]"
      ]
     },
     "execution_count": 142,
     "metadata": {
      "tags": []
     },
     "output_type": "execute_result"
    },
    {
     "data": {
      "image/png": "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\n",
      "text/plain": [
       "<Figure size 432x288 with 1 Axes>"
      ]
     },
     "metadata": {
      "tags": []
     },
     "output_type": "display_data"
    }
   ],
   "source": [
    "N = EPOCHS\n",
    "plt.style.use(\"ggplot\")\n",
    "plt.figure()\n",
    "plt.plot(np.arange(0, N), H.history[\"loss\"], label=\"train_loss\")\n",
    "plt.plot(np.arange(0, N), H.history[\"val_loss\"], label=\"val_loss\")"
   ]
  },
  {
   "cell_type": "markdown",
   "metadata": {
    "id": "xiN_F3JM2t2F"
   },
   "source": [
    "Switching to Regular Jupyter Notebook"
   ]
  },
  {
   "cell_type": "code",
   "execution_count": null,
   "metadata": {
    "id": "sovXiWwl2qL8"
   },
   "outputs": [],
   "source": []
  },
  {
   "cell_type": "code",
   "execution_count": null,
   "metadata": {
    "id": "AVs50M7u2qYZ"
   },
   "outputs": [],
   "source": []
  },
  {
   "cell_type": "code",
   "execution_count": null,
   "metadata": {
    "id": "yFmrtUAU2qiT"
   },
   "outputs": [],
   "source": []
  },
  {
   "cell_type": "code",
   "execution_count": null,
   "metadata": {
    "id": "FvPk_hOb2qrh"
   },
   "outputs": [],
   "source": []
  },
  {
   "cell_type": "code",
   "execution_count": null,
   "metadata": {
    "id": "1VGaWU2M2q1H"
   },
   "outputs": [],
   "source": []
  },
  {
   "cell_type": "code",
   "execution_count": null,
   "metadata": {
    "id": "dKy7OZcA2q9L"
   },
   "outputs": [],
   "source": []
  },
  {
   "cell_type": "code",
   "execution_count": null,
   "metadata": {
    "executionInfo": {
     "elapsed": 1167,
     "status": "ok",
     "timestamp": 1610811397173,
     "user": {
      "displayName": "yugandhar yelai",
      "photoUrl": "https://lh3.googleusercontent.com/a-/AOh14GhVsXnwYLMp2Q7hgevTPFHwKPDnjI3BbkKtZbAphHM=s64",
      "userId": "14257996472509619297"
     },
     "user_tz": -330
    },
    "id": "93U_DpZd0rWz"
   },
   "outputs": [],
   "source": []
  },
  {
   "cell_type": "code",
   "execution_count": null,
   "metadata": {
    "executionInfo": {
     "elapsed": 2385,
     "status": "ok",
     "timestamp": 1610811399260,
     "user": {
      "displayName": "yugandhar yelai",
      "photoUrl": "https://lh3.googleusercontent.com/a-/AOh14GhVsXnwYLMp2Q7hgevTPFHwKPDnjI3BbkKtZbAphHM=s64",
      "userId": "14257996472509619297"
     },
     "user_tz": -330
    },
    "id": "WnP_riIL0rhc"
   },
   "outputs": [],
   "source": []
  },
  {
   "cell_type": "code",
   "execution_count": null,
   "metadata": {
    "executionInfo": {
     "elapsed": 1660,
     "status": "ok",
     "timestamp": 1610811399263,
     "user": {
      "displayName": "yugandhar yelai",
      "photoUrl": "https://lh3.googleusercontent.com/a-/AOh14GhVsXnwYLMp2Q7hgevTPFHwKPDnjI3BbkKtZbAphHM=s64",
      "userId": "14257996472509619297"
     },
     "user_tz": -330
    },
    "id": "QbpB4iwb0rpg"
   },
   "outputs": [],
   "source": []
  },
  {
   "cell_type": "code",
   "execution_count": null,
   "metadata": {
    "executionInfo": {
     "elapsed": 1398,
     "status": "ok",
     "timestamp": 1610811424849,
     "user": {
      "displayName": "yugandhar yelai",
      "photoUrl": "https://lh3.googleusercontent.com/a-/AOh14GhVsXnwYLMp2Q7hgevTPFHwKPDnjI3BbkKtZbAphHM=s64",
      "userId": "14257996472509619297"
     },
     "user_tz": -330
    },
    "id": "NPtT7FtG0rwy"
   },
   "outputs": [],
   "source": []
  },
  {
   "cell_type": "code",
   "execution_count": null,
   "metadata": {
    "colab": {
     "base_uri": "https://localhost:8080/",
     "height": 287
    },
    "executionInfo": {
     "elapsed": 2005,
     "status": "ok",
     "timestamp": 1610811428905,
     "user": {
      "displayName": "yugandhar yelai",
      "photoUrl": "https://lh3.googleusercontent.com/a-/AOh14GhVsXnwYLMp2Q7hgevTPFHwKPDnjI3BbkKtZbAphHM=s64",
      "userId": "14257996472509619297"
     },
     "user_tz": -330
    },
    "id": "_zxuIqAH05uD",
    "outputId": "b04616b6-90cd-4c26-8529-efbe3b0655f2"
   },
   "outputs": [],
   "source": []
  },
  {
   "cell_type": "code",
   "execution_count": null,
   "metadata": {
    "id": "Qgx-1TrY0531"
   },
   "outputs": [],
   "source": []
  },
  {
   "cell_type": "code",
   "execution_count": null,
   "metadata": {
    "executionInfo": {
     "elapsed": 1355,
     "status": "ok",
     "timestamp": 1610811507899,
     "user": {
      "displayName": "yugandhar yelai",
      "photoUrl": "https://lh3.googleusercontent.com/a-/AOh14GhVsXnwYLMp2Q7hgevTPFHwKPDnjI3BbkKtZbAphHM=s64",
      "userId": "14257996472509619297"
     },
     "user_tz": -330
    },
    "id": "c4ygYeu705_Y"
   },
   "outputs": [],
   "source": []
  },
  {
   "cell_type": "code",
   "execution_count": null,
   "metadata": {
    "colab": {
     "base_uri": "https://localhost:8080/"
    },
    "executionInfo": {
     "elapsed": 1510,
     "status": "ok",
     "timestamp": 1610811510311,
     "user": {
      "displayName": "yugandhar yelai",
      "photoUrl": "https://lh3.googleusercontent.com/a-/AOh14GhVsXnwYLMp2Q7hgevTPFHwKPDnjI3BbkKtZbAphHM=s64",
      "userId": "14257996472509619297"
     },
     "user_tz": -330
    },
    "id": "GMGA3DQ90r45",
    "outputId": "ea5a4b07-2e15-44e7-e53f-beff68b59679"
   },
   "outputs": [],
   "source": []
  },
  {
   "cell_type": "code",
   "execution_count": null,
   "metadata": {
    "colab": {
     "base_uri": "https://localhost:8080/"
    },
    "executionInfo": {
     "elapsed": 1908,
     "status": "ok",
     "timestamp": 1610811512959,
     "user": {
      "displayName": "yugandhar yelai",
      "photoUrl": "https://lh3.googleusercontent.com/a-/AOh14GhVsXnwYLMp2Q7hgevTPFHwKPDnjI3BbkKtZbAphHM=s64",
      "userId": "14257996472509619297"
     },
     "user_tz": -330
    },
    "id": "zLP_W_b31Xm1",
    "outputId": "33b2eee6-b729-420b-867b-64ff143dea0c"
   },
   "outputs": [],
   "source": []
  },
  {
   "cell_type": "code",
   "execution_count": null,
   "metadata": {
    "colab": {
     "base_uri": "https://localhost:8080/"
    },
    "executionInfo": {
     "elapsed": 3496,
     "status": "ok",
     "timestamp": 1610811517331,
     "user": {
      "displayName": "yugandhar yelai",
      "photoUrl": "https://lh3.googleusercontent.com/a-/AOh14GhVsXnwYLMp2Q7hgevTPFHwKPDnjI3BbkKtZbAphHM=s64",
      "userId": "14257996472509619297"
     },
     "user_tz": -330
    },
    "id": "xqoEQDQy1XvZ",
    "outputId": "751c34a0-3a6b-483d-9922-39b0665794f8"
   },
   "outputs": [],
   "source": []
  },
  {
   "cell_type": "code",
   "execution_count": null,
   "metadata": {
    "colab": {
     "base_uri": "https://localhost:8080/",
     "height": 370
    },
    "executionInfo": {
     "elapsed": 832,
     "status": "error",
     "timestamp": 1610811519474,
     "user": {
      "displayName": "yugandhar yelai",
      "photoUrl": "https://lh3.googleusercontent.com/a-/AOh14GhVsXnwYLMp2Q7hgevTPFHwKPDnjI3BbkKtZbAphHM=s64",
      "userId": "14257996472509619297"
     },
     "user_tz": -330
    },
    "id": "5T91TXQA1idp",
    "outputId": "f91762c2-a4e8-4832-b10c-a8ef0695e687"
   },
   "outputs": [],
   "source": []
  },
  {
   "cell_type": "code",
   "execution_count": null,
   "metadata": {
    "id": "7u1ifhJi1X4E"
   },
   "outputs": [],
   "source": []
  },
  {
   "cell_type": "code",
   "execution_count": null,
   "metadata": {
    "id": "wSG04ZzB0r_8"
   },
   "outputs": [],
   "source": []
  },
  {
   "cell_type": "code",
   "execution_count": null,
   "metadata": {
    "colab": {
     "base_uri": "https://localhost:8080/",
     "height": 361
    },
    "executionInfo": {
     "elapsed": 3350,
     "status": "ok",
     "timestamp": 1610808818225,
     "user": {
      "displayName": "yugandhar yelai",
      "photoUrl": "https://lh3.googleusercontent.com/a-/AOh14GhVsXnwYLMp2Q7hgevTPFHwKPDnjI3BbkKtZbAphHM=s64",
      "userId": "14257996472509619297"
     },
     "user_tz": -330
    },
    "id": "YZaPEBOgbNOT",
    "outputId": "0483f9b1-369a-4d80-a5a7-13cd846f4559"
   },
   "outputs": [],
   "source": []
  },
  {
   "cell_type": "code",
   "execution_count": null,
   "metadata": {
    "colab": {
     "base_uri": "https://localhost:8080/",
     "height": 172
    },
    "executionInfo": {
     "elapsed": 1430,
     "status": "error",
     "timestamp": 1610810070452,
     "user": {
      "displayName": "yugandhar yelai",
      "photoUrl": "https://lh3.googleusercontent.com/a-/AOh14GhVsXnwYLMp2Q7hgevTPFHwKPDnjI3BbkKtZbAphHM=s64",
      "userId": "14257996472509619297"
     },
     "user_tz": -330
    },
    "id": "qBS36JVibNWB",
    "outputId": "a744fea6-b654-4447-f85f-c006fe1e941e"
   },
   "outputs": [],
   "source": []
  },
  {
   "cell_type": "code",
   "execution_count": null,
   "metadata": {
    "id": "8Fjw20yabNdl"
   },
   "outputs": [],
   "source": []
  },
  {
   "cell_type": "code",
   "execution_count": null,
   "metadata": {
    "id": "60xYbSSbbNj2"
   },
   "outputs": [],
   "source": []
  },
  {
   "cell_type": "code",
   "execution_count": null,
   "metadata": {
    "id": "qRbUGCaobNq9"
   },
   "outputs": [],
   "source": []
  },
  {
   "cell_type": "code",
   "execution_count": null,
   "metadata": {
    "id": "tEujSMZ9bNyj"
   },
   "outputs": [],
   "source": []
  },
  {
   "cell_type": "code",
   "execution_count": null,
   "metadata": {
    "id": "E8G7-pg2bN5T"
   },
   "outputs": [],
   "source": []
  },
  {
   "cell_type": "code",
   "execution_count": null,
   "metadata": {
    "id": "ixZ25xAgbOA-"
   },
   "outputs": [],
   "source": []
  },
  {
   "cell_type": "code",
   "execution_count": null,
   "metadata": {
    "executionInfo": {
     "elapsed": 2360,
     "status": "ok",
     "timestamp": 1610803241047,
     "user": {
      "displayName": "yugandhar yelai",
      "photoUrl": "https://lh3.googleusercontent.com/a-/AOh14GhVsXnwYLMp2Q7hgevTPFHwKPDnjI3BbkKtZbAphHM=s64",
      "userId": "14257996472509619297"
     },
     "user_tz": -330
    },
    "id": "RYtB3R6wVYkG"
   },
   "outputs": [],
   "source": []
  },
  {
   "cell_type": "code",
   "execution_count": null,
   "metadata": {
    "executionInfo": {
     "elapsed": 1768,
     "status": "ok",
     "timestamp": 1610803242179,
     "user": {
      "displayName": "yugandhar yelai",
      "photoUrl": "https://lh3.googleusercontent.com/a-/AOh14GhVsXnwYLMp2Q7hgevTPFHwKPDnjI3BbkKtZbAphHM=s64",
      "userId": "14257996472509619297"
     },
     "user_tz": -330
    },
    "id": "ulYBuEOrVYrB"
   },
   "outputs": [],
   "source": []
  },
  {
   "cell_type": "code",
   "execution_count": null,
   "metadata": {
    "colab": {
     "base_uri": "https://localhost:8080/",
     "height": 100
    },
    "executionInfo": {
     "elapsed": 1166,
     "status": "error",
     "timestamp": 1610803647784,
     "user": {
      "displayName": "yugandhar yelai",
      "photoUrl": "https://lh3.googleusercontent.com/a-/AOh14GhVsXnwYLMp2Q7hgevTPFHwKPDnjI3BbkKtZbAphHM=s64",
      "userId": "14257996472509619297"
     },
     "user_tz": -330
    },
    "id": "ImCJiBlLVYxa",
    "outputId": "e6337d0a-623e-465a-ac77-586fb9a4b108"
   },
   "outputs": [],
   "source": []
  },
  {
   "cell_type": "code",
   "execution_count": null,
   "metadata": {
    "id": "TmsoVY4OVY43"
   },
   "outputs": [],
   "source": []
  },
  {
   "cell_type": "code",
   "execution_count": null,
   "metadata": {
    "id": "wyGLB831VY_D"
   },
   "outputs": [],
   "source": []
  },
  {
   "cell_type": "code",
   "execution_count": null,
   "metadata": {
    "id": "qSjSHw9dVZHP"
   },
   "outputs": [],
   "source": []
  },
  {
   "cell_type": "code",
   "execution_count": null,
   "metadata": {
    "id": "gUzbiIQJVtWl"
   },
   "outputs": [],
   "source": []
  },
  {
   "cell_type": "code",
   "execution_count": null,
   "metadata": {
    "id": "VjzSwSqeVtc0"
   },
   "outputs": [],
   "source": []
  },
  {
   "cell_type": "code",
   "execution_count": null,
   "metadata": {
    "id": "ya_b9bP2Vtl7"
   },
   "outputs": [],
   "source": []
  },
  {
   "cell_type": "code",
   "execution_count": null,
   "metadata": {
    "id": "O0hkrqYfVtsx"
   },
   "outputs": [],
   "source": []
  },
  {
   "cell_type": "code",
   "execution_count": null,
   "metadata": {
    "id": "gdGejpZyVt0u"
   },
   "outputs": [],
   "source": []
  },
  {
   "cell_type": "code",
   "execution_count": null,
   "metadata": {
    "id": "4p5jkp7WVZZ1"
   },
   "outputs": [],
   "source": []
  },
  {
   "cell_type": "code",
   "execution_count": null,
   "metadata": {
    "id": "l0oUpfdfWKMo"
   },
   "outputs": [],
   "source": []
  },
  {
   "cell_type": "code",
   "execution_count": null,
   "metadata": {
    "id": "VFeZH1ChWKT4"
   },
   "outputs": [],
   "source": []
  },
  {
   "cell_type": "code",
   "execution_count": null,
   "metadata": {
    "id": "HFv4Rh00WKcL"
   },
   "outputs": [],
   "source": []
  },
  {
   "cell_type": "code",
   "execution_count": null,
   "metadata": {
    "id": "kbzDRrRDWKja"
   },
   "outputs": [],
   "source": []
  },
  {
   "cell_type": "code",
   "execution_count": null,
   "metadata": {
    "id": "5S8bdnyiWKq3"
   },
   "outputs": [],
   "source": []
  },
  {
   "cell_type": "code",
   "execution_count": null,
   "metadata": {
    "id": "tApVldLTWKy-"
   },
   "outputs": [],
   "source": []
  },
  {
   "cell_type": "code",
   "execution_count": null,
   "metadata": {
    "id": "0UOgzedTWK5-"
   },
   "outputs": [],
   "source": []
  },
  {
   "cell_type": "code",
   "execution_count": null,
   "metadata": {
    "id": "5Kd9v5eVWLCS"
   },
   "outputs": [],
   "source": []
  },
  {
   "cell_type": "code",
   "execution_count": null,
   "metadata": {
    "id": "bMsEke__WLLD"
   },
   "outputs": [],
   "source": []
  },
  {
   "cell_type": "code",
   "execution_count": null,
   "metadata": {
    "id": "qWaJQG6SVZh4"
   },
   "outputs": [],
   "source": []
  },
  {
   "cell_type": "code",
   "execution_count": null,
   "metadata": {
    "executionInfo": {
     "elapsed": 12447,
     "status": "ok",
     "timestamp": 1610799016434,
     "user": {
      "displayName": "yugandhar yelai",
      "photoUrl": "https://lh3.googleusercontent.com/a-/AOh14GhVsXnwYLMp2Q7hgevTPFHwKPDnjI3BbkKtZbAphHM=s64",
      "userId": "14257996472509619297"
     },
     "user_tz": -330
    },
    "id": "f1Pdj-sdhDsx"
   },
   "outputs": [],
   "source": []
  },
  {
   "cell_type": "code",
   "execution_count": null,
   "metadata": {
    "executionInfo": {
     "elapsed": 889,
     "status": "ok",
     "timestamp": 1610799044019,
     "user": {
      "displayName": "yugandhar yelai",
      "photoUrl": "https://lh3.googleusercontent.com/a-/AOh14GhVsXnwYLMp2Q7hgevTPFHwKPDnjI3BbkKtZbAphHM=s64",
      "userId": "14257996472509619297"
     },
     "user_tz": -330
    },
    "id": "dfR3Sn60hHWV"
   },
   "outputs": [],
   "source": []
  },
  {
   "cell_type": "code",
   "execution_count": null,
   "metadata": {
    "colab": {
     "base_uri": "https://localhost:8080/"
    },
    "executionInfo": {
     "elapsed": 1030,
     "status": "ok",
     "timestamp": 1610801638982,
     "user": {
      "displayName": "yugandhar yelai",
      "photoUrl": "https://lh3.googleusercontent.com/a-/AOh14GhVsXnwYLMp2Q7hgevTPFHwKPDnjI3BbkKtZbAphHM=s64",
      "userId": "14257996472509619297"
     },
     "user_tz": -330
    },
    "id": "5J1H43A6hREc",
    "outputId": "43d20818-a6d3-4abb-c97e-c494525ec34f"
   },
   "outputs": [],
   "source": []
  },
  {
   "cell_type": "code",
   "execution_count": null,
   "metadata": {
    "colab": {
     "base_uri": "https://localhost:8080/"
    },
    "executionInfo": {
     "elapsed": 1627,
     "status": "ok",
     "timestamp": 1610801647448,
     "user": {
      "displayName": "yugandhar yelai",
      "photoUrl": "https://lh3.googleusercontent.com/a-/AOh14GhVsXnwYLMp2Q7hgevTPFHwKPDnjI3BbkKtZbAphHM=s64",
      "userId": "14257996472509619297"
     },
     "user_tz": -330
    },
    "id": "wb567_0AhRt6",
    "outputId": "15c26a42-63b5-47c8-e582-623f9ef40a36"
   },
   "outputs": [],
   "source": []
  },
  {
   "cell_type": "code",
   "execution_count": null,
   "metadata": {
    "colab": {
     "base_uri": "https://localhost:8080/"
    },
    "executionInfo": {
     "elapsed": 1201,
     "status": "ok",
     "timestamp": 1610801650423,
     "user": {
      "displayName": "yugandhar yelai",
      "photoUrl": "https://lh3.googleusercontent.com/a-/AOh14GhVsXnwYLMp2Q7hgevTPFHwKPDnjI3BbkKtZbAphHM=s64",
      "userId": "14257996472509619297"
     },
     "user_tz": -330
    },
    "id": "30WKp9FfhX5O",
    "outputId": "e446c8e7-1611-4307-8e7d-2b944f5e64a1"
   },
   "outputs": [],
   "source": []
  },
  {
   "cell_type": "code",
   "execution_count": null,
   "metadata": {
    "executionInfo": {
     "elapsed": 2500,
     "status": "ok",
     "timestamp": 1610799045689,
     "user": {
      "displayName": "yugandhar yelai",
      "photoUrl": "https://lh3.googleusercontent.com/a-/AOh14GhVsXnwYLMp2Q7hgevTPFHwKPDnjI3BbkKtZbAphHM=s64",
      "userId": "14257996472509619297"
     },
     "user_tz": -330
    },
    "id": "ATJH3rWohZ6C"
   },
   "outputs": [],
   "source": []
  },
  {
   "cell_type": "code",
   "execution_count": null,
   "metadata": {
    "executionInfo": {
     "elapsed": 2493,
     "status": "ok",
     "timestamp": 1610799045692,
     "user": {
      "displayName": "yugandhar yelai",
      "photoUrl": "https://lh3.googleusercontent.com/a-/AOh14GhVsXnwYLMp2Q7hgevTPFHwKPDnjI3BbkKtZbAphHM=s64",
      "userId": "14257996472509619297"
     },
     "user_tz": -330
    },
    "id": "wTJCaFpbhdFv"
   },
   "outputs": [],
   "source": []
  },
  {
   "cell_type": "code",
   "execution_count": null,
   "metadata": {
    "executionInfo": {
     "elapsed": 939,
     "status": "ok",
     "timestamp": 1610799187404,
     "user": {
      "displayName": "yugandhar yelai",
      "photoUrl": "https://lh3.googleusercontent.com/a-/AOh14GhVsXnwYLMp2Q7hgevTPFHwKPDnjI3BbkKtZbAphHM=s64",
      "userId": "14257996472509619297"
     },
     "user_tz": -330
    },
    "id": "vj-Oq8n0hhs0"
   },
   "outputs": [],
   "source": []
  },
  {
   "cell_type": "code",
   "execution_count": null,
   "metadata": {
    "colab": {
     "base_uri": "https://localhost:8080/",
     "height": 394
    },
    "executionInfo": {
     "elapsed": 978,
     "status": "error",
     "timestamp": 1610799187879,
     "user": {
      "displayName": "yugandhar yelai",
      "photoUrl": "https://lh3.googleusercontent.com/a-/AOh14GhVsXnwYLMp2Q7hgevTPFHwKPDnjI3BbkKtZbAphHM=s64",
      "userId": "14257996472509619297"
     },
     "user_tz": -330
    },
    "id": "PU9qzBfyhiOd",
    "outputId": "fcac929d-8071-48b1-9aa5-22c4343bed3f"
   },
   "outputs": [],
   "source": []
  },
  {
   "cell_type": "code",
   "execution_count": null,
   "metadata": {
    "executionInfo": {
     "elapsed": 1339,
     "status": "ok",
     "timestamp": 1610801656097,
     "user": {
      "displayName": "yugandhar yelai",
      "photoUrl": "https://lh3.googleusercontent.com/a-/AOh14GhVsXnwYLMp2Q7hgevTPFHwKPDnjI3BbkKtZbAphHM=s64",
      "userId": "14257996472509619297"
     },
     "user_tz": -330
    },
    "id": "ACDfMXhUhkYy"
   },
   "outputs": [],
   "source": []
  },
  {
   "cell_type": "code",
   "execution_count": null,
   "metadata": {
    "executionInfo": {
     "elapsed": 702,
     "status": "ok",
     "timestamp": 1610801656100,
     "user": {
      "displayName": "yugandhar yelai",
      "photoUrl": "https://lh3.googleusercontent.com/a-/AOh14GhVsXnwYLMp2Q7hgevTPFHwKPDnjI3BbkKtZbAphHM=s64",
      "userId": "14257996472509619297"
     },
     "user_tz": -330
    },
    "id": "1XijPigwhnJD"
   },
   "outputs": [],
   "source": []
  },
  {
   "cell_type": "code",
   "execution_count": null,
   "metadata": {
    "colab": {
     "base_uri": "https://localhost:8080/",
     "height": 540
    },
    "executionInfo": {
     "elapsed": 45569,
     "status": "error",
     "timestamp": 1610801701907,
     "user": {
      "displayName": "yugandhar yelai",
      "photoUrl": "https://lh3.googleusercontent.com/a-/AOh14GhVsXnwYLMp2Q7hgevTPFHwKPDnjI3BbkKtZbAphHM=s64",
      "userId": "14257996472509619297"
     },
     "user_tz": -330
    },
    "id": "eKNp_j4mhpv4",
    "outputId": "d890efe2-b5a0-40ba-fc00-b256bea65465"
   },
   "outputs": [],
   "source": []
  },
  {
   "cell_type": "code",
   "execution_count": null,
   "metadata": {
    "executionInfo": {
     "elapsed": 1217,
     "status": "ok",
     "timestamp": 1610802186827,
     "user": {
      "displayName": "yugandhar yelai",
      "photoUrl": "https://lh3.googleusercontent.com/a-/AOh14GhVsXnwYLMp2Q7hgevTPFHwKPDnjI3BbkKtZbAphHM=s64",
      "userId": "14257996472509619297"
     },
     "user_tz": -330
    },
    "id": "9TVl_8pEhsRd"
   },
   "outputs": [],
   "source": []
  },
  {
   "cell_type": "code",
   "execution_count": null,
   "metadata": {
    "colab": {
     "base_uri": "https://localhost:8080/"
    },
    "executionInfo": {
     "elapsed": 3715,
     "status": "ok",
     "timestamp": 1610802193659,
     "user": {
      "displayName": "yugandhar yelai",
      "photoUrl": "https://lh3.googleusercontent.com/a-/AOh14GhVsXnwYLMp2Q7hgevTPFHwKPDnjI3BbkKtZbAphHM=s64",
      "userId": "14257996472509619297"
     },
     "user_tz": -330
    },
    "id": "STzqcNgCj_J-",
    "outputId": "e3251432-59a8-4b8c-e57b-222484661e4c"
   },
   "outputs": [],
   "source": []
  },
  {
   "cell_type": "code",
   "execution_count": null,
   "metadata": {
    "colab": {
     "base_uri": "https://localhost:8080/"
    },
    "executionInfo": {
     "elapsed": 3502,
     "status": "ok",
     "timestamp": 1610802200335,
     "user": {
      "displayName": "yugandhar yelai",
      "photoUrl": "https://lh3.googleusercontent.com/a-/AOh14GhVsXnwYLMp2Q7hgevTPFHwKPDnjI3BbkKtZbAphHM=s64",
      "userId": "14257996472509619297"
     },
     "user_tz": -330
    },
    "id": "Ln9ERQN9kC4v",
    "outputId": "bdedb7a4-65f2-4d95-d665-9b790ab5fdaa"
   },
   "outputs": [],
   "source": []
  },
  {
   "cell_type": "code",
   "execution_count": null,
   "metadata": {
    "colab": {
     "base_uri": "https://localhost:8080/"
    },
    "executionInfo": {
     "elapsed": 978,
     "status": "ok",
     "timestamp": 1610802204817,
     "user": {
      "displayName": "yugandhar yelai",
      "photoUrl": "https://lh3.googleusercontent.com/a-/AOh14GhVsXnwYLMp2Q7hgevTPFHwKPDnjI3BbkKtZbAphHM=s64",
      "userId": "14257996472509619297"
     },
     "user_tz": -330
    },
    "id": "j6likAt0kI9X",
    "outputId": "b48ca98c-081a-4a20-97f5-12eadb76ba47"
   },
   "outputs": [],
   "source": []
  },
  {
   "cell_type": "code",
   "execution_count": null,
   "metadata": {
    "executionInfo": {
     "elapsed": 15221,
     "status": "aborted",
     "timestamp": 1610799058529,
     "user": {
      "displayName": "yugandhar yelai",
      "photoUrl": "https://lh3.googleusercontent.com/a-/AOh14GhVsXnwYLMp2Q7hgevTPFHwKPDnjI3BbkKtZbAphHM=s64",
      "userId": "14257996472509619297"
     },
     "user_tz": -330
    },
    "id": "NKqY_eVRkNl1"
   },
   "outputs": [],
   "source": []
  },
  {
   "cell_type": "code",
   "execution_count": null,
   "metadata": {
    "id": "zK4WaXsRPEpc"
   },
   "outputs": [],
   "source": []
  },
  {
   "cell_type": "code",
   "execution_count": null,
   "metadata": {
    "id": "Ln1ITBdePE4n"
   },
   "outputs": [],
   "source": []
  },
  {
   "cell_type": "code",
   "execution_count": null,
   "metadata": {
    "id": "Ca7IApzfPFEo"
   },
   "outputs": [],
   "source": []
  },
  {
   "cell_type": "code",
   "execution_count": null,
   "metadata": {
    "id": "wPvRr9lcPFM5"
   },
   "outputs": [],
   "source": []
  },
  {
   "cell_type": "code",
   "execution_count": null,
   "metadata": {
    "executionInfo": {
     "elapsed": 911,
     "status": "ok",
     "timestamp": 1610801245275,
     "user": {
      "displayName": "yugandhar yelai",
      "photoUrl": "https://lh3.googleusercontent.com/a-/AOh14GhVsXnwYLMp2Q7hgevTPFHwKPDnjI3BbkKtZbAphHM=s64",
      "userId": "14257996472509619297"
     },
     "user_tz": -330
    },
    "id": "h3DtFQ5OPFSu"
   },
   "outputs": [],
   "source": []
  },
  {
   "cell_type": "code",
   "execution_count": null,
   "metadata": {
    "colab": {
     "base_uri": "https://localhost:8080/"
    },
    "executionInfo": {
     "elapsed": 1973,
     "status": "ok",
     "timestamp": 1610801712776,
     "user": {
      "displayName": "yugandhar yelai",
      "photoUrl": "https://lh3.googleusercontent.com/a-/AOh14GhVsXnwYLMp2Q7hgevTPFHwKPDnjI3BbkKtZbAphHM=s64",
      "userId": "14257996472509619297"
     },
     "user_tz": -330
    },
    "id": "i8Qm6Q1GPGgm",
    "outputId": "8f92337d-459b-4918-c03c-429cd4101096"
   },
   "outputs": [],
   "source": []
  },
  {
   "cell_type": "code",
   "execution_count": null,
   "metadata": {
    "executionInfo": {
     "elapsed": 1132,
     "status": "ok",
     "timestamp": 1610801868199,
     "user": {
      "displayName": "yugandhar yelai",
      "photoUrl": "https://lh3.googleusercontent.com/a-/AOh14GhVsXnwYLMp2Q7hgevTPFHwKPDnjI3BbkKtZbAphHM=s64",
      "userId": "14257996472509619297"
     },
     "user_tz": -330
    },
    "id": "Xp1b3E13Pjl1"
   },
   "outputs": [],
   "source": []
  },
  {
   "cell_type": "code",
   "execution_count": null,
   "metadata": {
    "colab": {
     "base_uri": "https://localhost:8080/"
    },
    "executionInfo": {
     "elapsed": 162125,
     "status": "ok",
     "timestamp": 1610802030111,
     "user": {
      "displayName": "yugandhar yelai",
      "photoUrl": "https://lh3.googleusercontent.com/a-/AOh14GhVsXnwYLMp2Q7hgevTPFHwKPDnjI3BbkKtZbAphHM=s64",
      "userId": "14257996472509619297"
     },
     "user_tz": -330
    },
    "id": "c7as0z1yPVcp",
    "outputId": "b8b47291-6540-45d5-ec3d-0e9a1656a628"
   },
   "outputs": [],
   "source": []
  },
  {
   "cell_type": "code",
   "execution_count": null,
   "metadata": {
    "id": "XzWhbK0LPg6D"
   },
   "outputs": [],
   "source": []
  }
 ],
 "metadata": {
  "accelerator": "GPU",
  "colab": {
   "collapsed_sections": [],
   "name": "Task 4.ipynb",
   "provenance": [
    {
     "file_id": "https://github.com/Tech-nransom/Computer-Vision-and-IOT/blob/main/Task%203/Task%203.ipynb",
     "timestamp": 1610706142735
    }
   ]
  },
  "kernelspec": {
   "display_name": "Python 3",
   "language": "python",
   "name": "python3"
  },
  "language_info": {
   "codemirror_mode": {
    "name": "ipython",
    "version": 3
   },
   "file_extension": ".py",
   "mimetype": "text/x-python",
   "name": "python",
   "nbconvert_exporter": "python",
   "pygments_lexer": "ipython3",
   "version": "3.8.5"
  }
 },
 "nbformat": 4,
 "nbformat_minor": 1
}
